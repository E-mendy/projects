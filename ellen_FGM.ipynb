{
 "cells": [
  {
   "cell_type": "code",
   "execution_count": 1,
   "metadata": {
    "id": "U-DP3kH8lfZq"
   },
   "outputs": [
    {
     "name": "stdout",
     "output_type": "stream",
     "text": [
      "Requirement already satisfied: snscrape in c:\\users\\sony\\anaconda3\\lib\\site-packages (0.3.4)\n",
      "Requirement already satisfied: beautifulsoup4 in c:\\users\\sony\\anaconda3\\lib\\site-packages (from snscrape) (4.9.3)\n",
      "Requirement already satisfied: requests[socks] in c:\\users\\sony\\anaconda3\\lib\\site-packages (from snscrape) (2.25.1)\n",
      "Requirement already satisfied: lxml in c:\\users\\sony\\anaconda3\\lib\\site-packages (from snscrape) (4.6.3)\n",
      "Requirement already satisfied: soupsieve>1.2 in c:\\users\\sony\\anaconda3\\lib\\site-packages (from beautifulsoup4->snscrape) (2.2.1)\n",
      "Requirement already satisfied: certifi>=2017.4.17 in c:\\users\\sony\\anaconda3\\lib\\site-packages (from requests[socks]->snscrape) (2020.12.5)\n",
      "Requirement already satisfied: idna<3,>=2.5 in c:\\users\\sony\\anaconda3\\lib\\site-packages (from requests[socks]->snscrape) (2.10)\n",
      "Requirement already satisfied: urllib3<1.27,>=1.21.1 in c:\\users\\sony\\anaconda3\\lib\\site-packages (from requests[socks]->snscrape) (1.26.4)\n",
      "Requirement already satisfied: chardet<5,>=3.0.2 in c:\\users\\sony\\anaconda3\\lib\\site-packages (from requests[socks]->snscrape) (4.0.0)\n",
      "Requirement already satisfied: PySocks!=1.5.7,>=1.5.6 in c:\\users\\sony\\anaconda3\\lib\\site-packages (from requests[socks]->snscrape) (1.7.1)\n"
     ]
    }
   ],
   "source": [
    "# install snscrape module\n",
    "!pip3 install snscrape"
   ]
  },
  {
   "cell_type": "code",
   "execution_count": 2,
   "metadata": {
    "id": "sAPL-e4XtRNF"
   },
   "outputs": [],
   "source": [
    "# import libraries\n",
    "import pandas as pd\n",
    "import snscrape.modules.twitter as sntwitter\n",
    "import itertools"
   ]
  },
  {
   "cell_type": "code",
   "execution_count": 3,
   "metadata": {
    "id": "PfSWEFngs1Vd"
   },
   "outputs": [],
   "source": [
    "# Creating list to append tweet data to\n",
    "tweets_listy = []\n",
    "\n",
    "# Using TwitterSearchScraper to scrape data and append tweets to list\n",
    "for i,tweet in enumerate(sntwitter.TwitterSearchScraper('female genital mutilation, Africa').get_items()):\n",
    "    if i>1000:\n",
    "        break\n",
    "    tweets_listy.append([tweet.date, tweet.id, tweet.content, tweet.username])\n",
    "    \n",
    "# Creating a dataframe from the tweets list above\n",
    "tweets_dfy = pd.DataFrame(tweets_listy, columns=['Datetime', 'Tweet Id', 'Text', 'Username'])"
   ]
  },
  {
   "cell_type": "code",
   "execution_count": 4,
   "metadata": {
    "id": "Iow3UyFUs4NQ"
   },
   "outputs": [
    {
     "data": {
      "text/html": [
       "<div>\n",
       "<style scoped>\n",
       "    .dataframe tbody tr th:only-of-type {\n",
       "        vertical-align: middle;\n",
       "    }\n",
       "\n",
       "    .dataframe tbody tr th {\n",
       "        vertical-align: top;\n",
       "    }\n",
       "\n",
       "    .dataframe thead th {\n",
       "        text-align: right;\n",
       "    }\n",
       "</style>\n",
       "<table border=\"1\" class=\"dataframe\">\n",
       "  <thead>\n",
       "    <tr style=\"text-align: right;\">\n",
       "      <th></th>\n",
       "      <th>Datetime</th>\n",
       "      <th>Tweet Id</th>\n",
       "      <th>Text</th>\n",
       "      <th>Username</th>\n",
       "    </tr>\n",
       "  </thead>\n",
       "  <tbody>\n",
       "    <tr>\n",
       "      <th>0</th>\n",
       "      <td>2022-06-02 17:56:42+00:00</td>\n",
       "      <td>1532420959872897024</td>\n",
       "      <td>@MattWalshBlog Bc you spoke to 1 *modern* trib...</td>\n",
       "      <td>Laubham</td>\n",
       "    </tr>\n",
       "    <tr>\n",
       "      <th>1</th>\n",
       "      <td>2022-06-02 17:31:55+00:00</td>\n",
       "      <td>1532414721504292865</td>\n",
       "      <td>@BBDollFal @honestsportz @MattWalshBlog Since ...</td>\n",
       "      <td>sang_eugene</td>\n",
       "    </tr>\n",
       "    <tr>\n",
       "      <th>2</th>\n",
       "      <td>2022-06-02 13:49:20+00:00</td>\n",
       "      <td>1532358707962683397</td>\n",
       "      <td>Across Africa, millions of children continue t...</td>\n",
       "      <td>SaveChildrenZM</td>\n",
       "    </tr>\n",
       "    <tr>\n",
       "      <th>3</th>\n",
       "      <td>2022-06-02 12:57:52+00:00</td>\n",
       "      <td>1532345757784850434</td>\n",
       "      <td>#ACERWC and @achpr_cadhp  are convening a Vali...</td>\n",
       "      <td>acerwc</td>\n",
       "    </tr>\n",
       "    <tr>\n",
       "      <th>4</th>\n",
       "      <td>2022-06-02 11:40:17+00:00</td>\n",
       "      <td>1532326230728622082</td>\n",
       "      <td>Across Africa, millions of children continue t...</td>\n",
       "      <td>SaveChildren_KE</td>\n",
       "    </tr>\n",
       "    <tr>\n",
       "      <th>...</th>\n",
       "      <td>...</td>\n",
       "      <td>...</td>\n",
       "      <td>...</td>\n",
       "      <td>...</td>\n",
       "    </tr>\n",
       "    <tr>\n",
       "      <th>996</th>\n",
       "      <td>2020-07-22 23:25:25+00:00</td>\n",
       "      <td>1286079936655024128</td>\n",
       "      <td>@NeedToDumpTrump @1SpencerGarrett It's legal t...</td>\n",
       "      <td>dselma</td>\n",
       "    </tr>\n",
       "    <tr>\n",
       "      <th>997</th>\n",
       "      <td>2020-07-22 19:40:32+00:00</td>\n",
       "      <td>1286023342420561926</td>\n",
       "      <td>.@sheffa_org is hosting a workshop on ending F...</td>\n",
       "      <td>MoodyKhedr</td>\n",
       "    </tr>\n",
       "    <tr>\n",
       "      <th>998</th>\n",
       "      <td>2020-07-21 09:56:53+00:00</td>\n",
       "      <td>1285514075405983744</td>\n",
       "      <td>@JustinTrudeau Yes! You are a great leader, th...</td>\n",
       "      <td>VictorOlusegu15</td>\n",
       "    </tr>\n",
       "    <tr>\n",
       "      <th>999</th>\n",
       "      <td>2020-07-20 17:45:51+00:00</td>\n",
       "      <td>1285269704387461121</td>\n",
       "      <td>Did you know that FGM (Female Genital Mutilati...</td>\n",
       "      <td>lococapricorn</td>\n",
       "    </tr>\n",
       "    <tr>\n",
       "      <th>1000</th>\n",
       "      <td>2020-07-20 16:26:47+00:00</td>\n",
       "      <td>1285249808362622976</td>\n",
       "      <td>On the subject of female genital mutilation, I...</td>\n",
       "      <td>Marnie1591</td>\n",
       "    </tr>\n",
       "  </tbody>\n",
       "</table>\n",
       "<p>1001 rows × 4 columns</p>\n",
       "</div>"
      ],
      "text/plain": [
       "                      Datetime             Tweet Id  \\\n",
       "0    2022-06-02 17:56:42+00:00  1532420959872897024   \n",
       "1    2022-06-02 17:31:55+00:00  1532414721504292865   \n",
       "2    2022-06-02 13:49:20+00:00  1532358707962683397   \n",
       "3    2022-06-02 12:57:52+00:00  1532345757784850434   \n",
       "4    2022-06-02 11:40:17+00:00  1532326230728622082   \n",
       "...                        ...                  ...   \n",
       "996  2020-07-22 23:25:25+00:00  1286079936655024128   \n",
       "997  2020-07-22 19:40:32+00:00  1286023342420561926   \n",
       "998  2020-07-21 09:56:53+00:00  1285514075405983744   \n",
       "999  2020-07-20 17:45:51+00:00  1285269704387461121   \n",
       "1000 2020-07-20 16:26:47+00:00  1285249808362622976   \n",
       "\n",
       "                                                   Text         Username  \n",
       "0     @MattWalshBlog Bc you spoke to 1 *modern* trib...          Laubham  \n",
       "1     @BBDollFal @honestsportz @MattWalshBlog Since ...      sang_eugene  \n",
       "2     Across Africa, millions of children continue t...   SaveChildrenZM  \n",
       "3     #ACERWC and @achpr_cadhp  are convening a Vali...           acerwc  \n",
       "4     Across Africa, millions of children continue t...  SaveChildren_KE  \n",
       "...                                                 ...              ...  \n",
       "996   @NeedToDumpTrump @1SpencerGarrett It's legal t...           dselma  \n",
       "997   .@sheffa_org is hosting a workshop on ending F...       MoodyKhedr  \n",
       "998   @JustinTrudeau Yes! You are a great leader, th...  VictorOlusegu15  \n",
       "999   Did you know that FGM (Female Genital Mutilati...    lococapricorn  \n",
       "1000  On the subject of female genital mutilation, I...       Marnie1591  \n",
       "\n",
       "[1001 rows x 4 columns]"
      ]
     },
     "execution_count": 4,
     "metadata": {},
     "output_type": "execute_result"
    }
   ],
   "source": [
    "# View dataframe\n",
    "tweets_dfy"
   ]
  },
  {
   "cell_type": "code",
   "execution_count": 5,
   "metadata": {
    "id": "HrUr4QyPs8ag"
   },
   "outputs": [],
   "source": [
    "# remove timezones\n",
    "tweets_dfy['Datetime']=tweets_dfy['Datetime'].dt.tz_localize(None)"
   ]
  },
  {
   "cell_type": "code",
   "execution_count": 10,
   "metadata": {},
   "outputs": [],
   "source": [
    "#rename the dataset\n",
    "data = pd.DataFrame(tweets_dfy)"
   ]
  },
  {
   "cell_type": "code",
   "execution_count": 11,
   "metadata": {},
   "outputs": [
    {
     "data": {
      "text/html": [
       "<div>\n",
       "<style scoped>\n",
       "    .dataframe tbody tr th:only-of-type {\n",
       "        vertical-align: middle;\n",
       "    }\n",
       "\n",
       "    .dataframe tbody tr th {\n",
       "        vertical-align: top;\n",
       "    }\n",
       "\n",
       "    .dataframe thead th {\n",
       "        text-align: right;\n",
       "    }\n",
       "</style>\n",
       "<table border=\"1\" class=\"dataframe\">\n",
       "  <thead>\n",
       "    <tr style=\"text-align: right;\">\n",
       "      <th></th>\n",
       "      <th>Datetime</th>\n",
       "      <th>Tweet Id</th>\n",
       "      <th>Text</th>\n",
       "      <th>Username</th>\n",
       "    </tr>\n",
       "  </thead>\n",
       "  <tbody>\n",
       "    <tr>\n",
       "      <th>0</th>\n",
       "      <td>2022-06-02 17:56:42</td>\n",
       "      <td>1532420959872897024</td>\n",
       "      <td>@MattWalshBlog Bc you spoke to 1 *modern* trib...</td>\n",
       "      <td>Laubham</td>\n",
       "    </tr>\n",
       "    <tr>\n",
       "      <th>1</th>\n",
       "      <td>2022-06-02 17:31:55</td>\n",
       "      <td>1532414721504292865</td>\n",
       "      <td>@BBDollFal @honestsportz @MattWalshBlog Since ...</td>\n",
       "      <td>sang_eugene</td>\n",
       "    </tr>\n",
       "    <tr>\n",
       "      <th>2</th>\n",
       "      <td>2022-06-02 13:49:20</td>\n",
       "      <td>1532358707962683397</td>\n",
       "      <td>Across Africa, millions of children continue t...</td>\n",
       "      <td>SaveChildrenZM</td>\n",
       "    </tr>\n",
       "    <tr>\n",
       "      <th>3</th>\n",
       "      <td>2022-06-02 12:57:52</td>\n",
       "      <td>1532345757784850434</td>\n",
       "      <td>#ACERWC and @achpr_cadhp  are convening a Vali...</td>\n",
       "      <td>acerwc</td>\n",
       "    </tr>\n",
       "    <tr>\n",
       "      <th>4</th>\n",
       "      <td>2022-06-02 11:40:17</td>\n",
       "      <td>1532326230728622082</td>\n",
       "      <td>Across Africa, millions of children continue t...</td>\n",
       "      <td>SaveChildren_KE</td>\n",
       "    </tr>\n",
       "  </tbody>\n",
       "</table>\n",
       "</div>"
      ],
      "text/plain": [
       "             Datetime             Tweet Id  \\\n",
       "0 2022-06-02 17:56:42  1532420959872897024   \n",
       "1 2022-06-02 17:31:55  1532414721504292865   \n",
       "2 2022-06-02 13:49:20  1532358707962683397   \n",
       "3 2022-06-02 12:57:52  1532345757784850434   \n",
       "4 2022-06-02 11:40:17  1532326230728622082   \n",
       "\n",
       "                                                Text         Username  \n",
       "0  @MattWalshBlog Bc you spoke to 1 *modern* trib...          Laubham  \n",
       "1  @BBDollFal @honestsportz @MattWalshBlog Since ...      sang_eugene  \n",
       "2  Across Africa, millions of children continue t...   SaveChildrenZM  \n",
       "3  #ACERWC and @achpr_cadhp  are convening a Vali...           acerwc  \n",
       "4  Across Africa, millions of children continue t...  SaveChildren_KE  "
      ]
     },
     "execution_count": 11,
     "metadata": {},
     "output_type": "execute_result"
    }
   ],
   "source": [
    "data.head()"
   ]
  },
  {
   "cell_type": "code",
   "execution_count": 32,
   "metadata": {},
   "outputs": [
    {
     "name": "stdout",
     "output_type": "stream",
     "text": [
      "<class 'pandas.core.frame.DataFrame'>\n",
      "RangeIndex: 1001 entries, 0 to 1000\n",
      "Data columns (total 4 columns):\n",
      " #   Column    Non-Null Count  Dtype         \n",
      "---  ------    --------------  -----         \n",
      " 0   Datetime  1001 non-null   datetime64[ns]\n",
      " 1   Tweet Id  1001 non-null   int64         \n",
      " 2   Text      1001 non-null   object        \n",
      " 3   Username  1001 non-null   object        \n",
      "dtypes: datetime64[ns](1), int64(1), object(2)\n",
      "memory usage: 31.4+ KB\n"
     ]
    }
   ],
   "source": [
    "data.info()"
   ]
  },
  {
   "cell_type": "code",
   "execution_count": 34,
   "metadata": {},
   "outputs": [
    {
     "data": {
      "text/plain": [
       "FACT: An estimated 48.5 million young girls and women in East Africa have undergone Female Genital Mutilation (FGM).\\n\\nThis prompted countries in the East African region to sign a declaration in 2019 to eliminate the practice of FGM.                                                                                2\n",
       "One cut is all it takes. Female Genital Mutilation #FGM and child marriage are two of the main forms of Gender Based Violence practiced in #Ethiopia and throughout Africa. Zero tolerance for #FGM and #GBV. #ETH&amp;AU16days #OrangeTheWorld #16daysAfrica                                                             2\n",
       "Vision 2030 won't be achieved unless we address cross-border female genital mutilation in East and Southern Africa                                                                                                                                                                                                        2\n",
       "Germany witnesses an increase in cases of female genital mutilation, migrant influx from the Middle East and Africa being seen as a reason\\n\\nhttps://t.co/SJD0UJxPt7                                                                                                                                                     2\n",
       "3 million girls in Africa are at risk of undergoing female genital mutilation (FGM) every year. These activists say enough is enough. https://t.co/TVjPoDciWE                                                                                                                                                             2\n",
       "                                                                                                                                                                                                                                                                                                                         ..\n",
       "Harmful Practices affect not only the victim, but the society as a whole. @_AfricanUnion  stands for the Human Rights of girls &amp; women to end including Child marriage and Female Genital Mutilation for an Africa free of all forms of gender based violence. \\n#IBelongToMe #AGS2021 https://t.co/nWV13QgkGT        1\n",
       "@TakedownMRAs So if having genital warts is worse than having a labiaplasty, is promoting labiaplasty on healtjy baby girls, which is called female genital mutilation, not an atrocity or gender-based violence then?\\nShould we promote it using state funds in Africa?                                                 1\n",
       "Today Feb 6 is the\\nInternational Day of Zero Tolerance for Female Genital Mutilation.\\n\\nMore than 200 million girls and women alive today have been cut in 30 countries in Africa and the Middle East.\\n\\nAn estimate of 4 million girls are at risk of undergoing FGM each year.\\n\\n#EndFGM https://t.co/qe9QKRtTVc    1\n",
       "Female genital mutilation/ cutting - the normalisation of brutality under the garb of tradition -. Happens in heart of the India - BBY too..nt in faroff tribal community of Africa. Read on. https://t.co/xJalf6qFxw via                                                                                                 1\n",
       "👉🏽Worldwide, between 100 million and 140 million women have been cut, and 3 million more are at risk each year. Women are subjected to female genital mutilation in 28 countries in Africa – this includes Eritrea, Ethiopia, Kenya, Tanzania and Uganda in East and Southern Africa.                                     1\n",
       "Name: Text, Length: 995, dtype: int64"
      ]
     },
     "execution_count": 34,
     "metadata": {},
     "output_type": "execute_result"
    }
   ],
   "source": [
    "data.Text.value_counts()"
   ]
  },
  {
   "cell_type": "code",
   "execution_count": 35,
   "metadata": {},
   "outputs": [
    {
     "name": "stdout",
     "output_type": "stream",
     "text": [
      "Original: (1001, 4)\n",
      "Drop Dupicates: (1001, 4)\n",
      "Drop Nulls: (1001, 4)\n"
     ]
    }
   ],
   "source": [
    "print (\"Original:\", data.shape)\n",
    "data1 = data.drop_duplicates()\n",
    "data2 = data1.reset_index(drop=True)\n",
    "print(\"Drop Dupicates:\", data2.shape)\n",
    "data3 = data2.dropna()\n",
    "data4 = data3.reset_index(drop=True)\n",
    "print(\"Drop Nulls:\", data4.shape)"
   ]
  },
  {
   "cell_type": "code",
   "execution_count": 37,
   "metadata": {},
   "outputs": [
    {
     "data": {
      "text/plain": [
       "\"@BBDollFal @honestsportz @MattWalshBlog Since Christianity was introduced to Africa people understood that female genital mutilation is bad and have been battling against it since. Now it's brought back in the form of transgenderism\""
      ]
     },
     "execution_count": 37,
     "metadata": {},
     "output_type": "execute_result"
    }
   ],
   "source": [
    "data4.Text[1]"
   ]
  },
  {
   "cell_type": "code",
   "execution_count": 38,
   "metadata": {},
   "outputs": [
    {
     "name": "stderr",
     "output_type": "stream",
     "text": [
      "[nltk_data] Downloading package punkt to\n",
      "[nltk_data]     C:\\Users\\Sony\\AppData\\Roaming\\nltk_data...\n",
      "[nltk_data]   Unzipping tokenizers\\punkt.zip.\n"
     ]
    },
    {
     "name": "stdout",
     "output_type": "stream",
     "text": [
      "['@', 'BBDollFal', '@', 'honestsportz', '@', 'MattWalshBlog', 'Since', 'Christianity', 'was', 'introduced', 'to', 'Africa', 'people', 'understood', 'that', 'female', 'genital', 'mutilation', 'is', 'bad', 'and', 'have', 'been', 'battling', 'against', 'it', 'since', '.', 'Now', 'it', \"'s\", 'brought', 'back', 'in', 'the', 'form', 'of', 'transgenderism']\n"
     ]
    }
   ],
   "source": [
    "import nltk\n",
    "nltk.download('punkt')\n",
    "from nltk.tokenize import word_tokenize\n",
    "tokens = word_tokenize(data4.Text[1])\n",
    "print(tokens)"
   ]
  },
  {
   "cell_type": "code",
   "execution_count": 40,
   "metadata": {},
   "outputs": [],
   "source": [
    "from nltk.stem import WordNetLemmatizer\n",
    "lm = WordNetLemmatizer()\n",
    "def own_analyser(phrase):\n",
    "    phrase = phrase.split()\n",
    "    for i in range(0,len(phrase)):\n",
    "        k = phrase.pop(0)\n",
    "        if k not in string.punctuation:\n",
    "                phrase.append(lm.lemmatize(k).lower())    \n",
    "    return phrase"
   ]
  },
  {
   "cell_type": "code",
   "execution_count": null,
   "metadata": {},
   "outputs": [
    {
     "name": "stdout",
     "output_type": "stream",
     "text": [
      "showing info https://raw.githubusercontent.com/nltk/nltk_data/gh-pages/index.xml\n"
     ]
    }
   ],
   "source": [
    " import nltk\n",
    " nltk.download()"
   ]
  },
  {
   "cell_type": "code",
   "execution_count": null,
   "metadata": {},
   "outputs": [],
   "source": [
    "from nltk.corpus import stopwords\n",
    "stop_words = stopwords.words('english')\n",
    "print([i for i in tokens if i not in stop_words])\n",
    " "
   ]
  },
  {
   "cell_type": "code",
   "execution_count": null,
   "metadata": {},
   "outputs": [],
   "source": [
    "df.Text[2]"
   ]
  },
  {
   "cell_type": "code",
   "execution_count": null,
   "metadata": {},
   "outputs": [],
   "source": []
  }
 ],
 "metadata": {
  "colab": {
   "name": "ellen_FGM.ipynb",
   "provenance": []
  },
  "kernelspec": {
   "display_name": "Python 3",
   "language": "python",
   "name": "python3"
  },
  "language_info": {
   "codemirror_mode": {
    "name": "ipython",
    "version": 3
   },
   "file_extension": ".py",
   "mimetype": "text/x-python",
   "name": "python",
   "nbconvert_exporter": "python",
   "pygments_lexer": "ipython3",
   "version": "3.8.8"
  }
 },
 "nbformat": 4,
 "nbformat_minor": 1
}
